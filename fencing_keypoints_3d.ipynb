{
 "cells": [
  {
   "cell_type": "code",
   "execution_count": 1,
   "id": "339da350",
   "metadata": {},
   "outputs": [],
   "source": [
    "import numpy as np\n",
    "import json\n",
    "from torch2trt import TRTModule\n",
    "import torch\n",
    "import numpy as np\n",
    "import time"
   ]
  },
  {
   "cell_type": "code",
   "execution_count": 2,
   "id": "0003133f",
   "metadata": {},
   "outputs": [],
   "source": [
    "def transform(keypoint2D):\n",
    "    import pdb\n",
    "    kpt2D = np.vstack((keypoint2D[5:20,:2], keypoint2D[26:,:2]))\n",
    "    xmin, ymin = np.min(kpt2D, axis=0)\n",
    "    xmax, ymax = np.max(kpt2D, axis=0)\n",
    "    w = xmax - xmin\n",
    "    h = ymax - ymin\n",
    "    xc = 0.5 * (xmin + xmax)\n",
    "    yc = 0.5 * (ymin + ymax)\n",
    "    D = np.max([w,h])\n",
    "\n",
    "    bnd = [0.225, 0.425]\n",
    "\n",
    "    if D < bnd[0]:\n",
    "        s = bnd[0] / D\n",
    "    elif D > bnd[1]:\n",
    "        s = bnd[1] / D\n",
    "    else:\n",
    "        s = 1\n",
    "    \n",
    "    if D < bnd[0] or D > bnd[1]:\n",
    "        kpt2D[:,0] -= xc\n",
    "        kpt2D[:,1] -= yc\n",
    "        kpt2D[:,:2] *= s\n",
    "        kpt2D[:,0] += xc\n",
    "        kpt2D[:,1] += yc\n",
    "      \n",
    "    return kpt2D"
   ]
  },
  {
   "cell_type": "code",
   "execution_count": 3,
   "id": "30ffd968",
   "metadata": {},
   "outputs": [],
   "source": [
    "def time_synchronized():\n",
    "    torch.cuda.synchronize() if torch.cuda.is_available() else None\n",
    "    return time.time()"
   ]
  },
  {
   "cell_type": "code",
   "execution_count": 4,
   "id": "3ea50b6f",
   "metadata": {},
   "outputs": [],
   "source": [
    "camera_params =[1969.23076923, 1961.85286104,  960.,  540.]"
   ]
  },
  {
   "cell_type": "code",
   "execution_count": 5,
   "id": "682297ac",
   "metadata": {},
   "outputs": [],
   "source": [
    "with open('./fencing_keypoints_2d.json') as file:\n",
    "    keypoints2D = np.array(json.load(file))"
   ]
  },
  {
   "cell_type": "code",
   "execution_count": 6,
   "id": "b83d5f5b",
   "metadata": {},
   "outputs": [],
   "source": [
    "kpts2D = np.zeros(keypoints2D.shape)\n",
    "kpts2D = kpts2D[:,:,:2]"
   ]
  },
  {
   "cell_type": "code",
   "execution_count": 7,
   "id": "c55fefb5",
   "metadata": {},
   "outputs": [],
   "source": [
    "kpts2D[:,:,0] = (keypoints2D[:,:,0]-camera_params[2])/camera_params[0]\n",
    "kpts2D[:,:,1] = (keypoints2D[:,:,1]-camera_params[3])/camera_params[1]"
   ]
  },
  {
   "cell_type": "code",
   "execution_count": 8,
   "id": "3beb2103",
   "metadata": {},
   "outputs": [
    {
     "data": {
      "text/plain": [
       "<All keys matched successfully>"
      ]
     },
     "execution_count": 8,
     "metadata": {},
     "output_type": "execute_result"
    }
   ],
   "source": [
    "Pose3D = TRTModule()\n",
    "Pose3D.load_state_dict(torch.load('../VideoPose3D/pretrained/PoseRescaleReducedTRT-2048.pth'))"
   ]
  },
  {
   "cell_type": "code",
   "execution_count": 15,
   "id": "c0331516",
   "metadata": {},
   "outputs": [],
   "source": [
    "keypoints3D = []"
   ]
  },
  {
   "cell_type": "code",
   "execution_count": 16,
   "id": "3cca9fa4",
   "metadata": {},
   "outputs": [],
   "source": [
    "t1 = time_synchronized()\n",
    "for kpt2D in kpts2D:\n",
    "    kpt2D = torch.tensor(np.array([[transform(kpt2D)]]), dtype=torch.float32).cuda()\n",
    "    kpt3D = Pose3D(kpt2D)[0,0].cpu().numpy().astype(float)\n",
    "    keypoints3D.append(kpt3D.tolist())\n",
    "\n",
    "t2 = time_synchronized()"
   ]
  },
  {
   "cell_type": "code",
   "execution_count": 20,
   "id": "2e59c734",
   "metadata": {},
   "outputs": [],
   "source": [
    "with open('./fencing_keypoints_3d.json', 'w') as file:\n",
    "    json.dump(keypoints3D, file)"
   ]
  },
  {
   "cell_type": "code",
   "execution_count": 21,
   "id": "59f7367a",
   "metadata": {},
   "outputs": [],
   "source": [
    "keypoints2D = np.array(keypoints2D)\n",
    "keypoints3D = np.array(keypoints3D)"
   ]
  },
  {
   "cell_type": "code",
   "execution_count": 22,
   "id": "bca8f445",
   "metadata": {},
   "outputs": [],
   "source": [
    "np.save('fencing_keypoints_2d.npy', keypoints2D)\n",
    "np.save('fencing_keypoints_3d.npy', keypoints3D)"
   ]
  },
  {
   "cell_type": "code",
   "execution_count": 25,
   "id": "bda2ac17",
   "metadata": {},
   "outputs": [
    {
     "data": {
      "text/plain": [
       "array([[ 9.33609728e-04, -5.87739669e-06, -3.72585737e-06],\n",
       "       [ 1.09380305e-01,  5.97786531e-03,  1.19130192e-02],\n",
       "       [ 8.14566091e-02,  3.34615469e-01, -7.39836246e-02],\n",
       "       [ 4.83515412e-02,  6.75919414e-01,  8.60959217e-02],\n",
       "       [-1.09367795e-01, -5.86193334e-03, -1.18964622e-02],\n",
       "       [-7.07633421e-02,  3.32988441e-01, -1.07303336e-01],\n",
       "       [-9.71707404e-02,  6.63341403e-01,  8.17327052e-02],\n",
       "       [ 1.66111700e-02, -2.39653587e-01, -4.12053168e-02],\n",
       "       [ 1.31733995e-02, -4.85320240e-01, -1.20475404e-01],\n",
       "       [ 2.63327416e-02, -5.53035200e-01, -1.77502900e-01],\n",
       "       [ 3.79503444e-02, -6.84004486e-01, -1.85202152e-01],\n",
       "       [ 1.57623485e-01, -4.35005307e-01, -8.39643851e-02],\n",
       "       [ 2.05729783e-01, -2.09433958e-01,  8.11357349e-02],\n",
       "       [ 2.03399435e-01,  2.37820130e-02,  1.61895752e-01],\n",
       "       [-1.35796621e-01, -4.08863395e-01, -1.33981526e-01],\n",
       "       [-1.93884254e-01, -1.56763196e-01, -1.21074356e-01],\n",
       "       [-1.77917689e-01,  5.99206500e-02, -9.76635665e-02]])"
      ]
     },
     "execution_count": 25,
     "metadata": {},
     "output_type": "execute_result"
    }
   ],
   "source": [
    "keypoints3D[-1]"
   ]
  },
  {
   "cell_type": "code",
   "execution_count": null,
   "id": "1c262c54",
   "metadata": {},
   "outputs": [],
   "source": []
  }
 ],
 "metadata": {
  "kernelspec": {
   "display_name": "Python 3",
   "language": "python",
   "name": "python3"
  },
  "language_info": {
   "codemirror_mode": {
    "name": "ipython",
    "version": 3
   },
   "file_extension": ".py",
   "mimetype": "text/x-python",
   "name": "python",
   "nbconvert_exporter": "python",
   "pygments_lexer": "ipython3",
   "version": "3.7.10"
  }
 },
 "nbformat": 4,
 "nbformat_minor": 5
}
